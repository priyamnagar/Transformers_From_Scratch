{
 "cells": [
  {
   "cell_type": "markdown",
   "id": "69a6c22f-60ec-4d59-ac14-230fa092635f",
   "metadata": {},
   "source": [
    "### Import Modules"
   ]
  },
  {
   "cell_type": "code",
   "execution_count": 1,
   "id": "13a88f72-cb9e-4bb5-914a-ab741160e891",
   "metadata": {},
   "outputs": [],
   "source": [
    "# Python Libraries\n",
    "import torch\n",
    "import torch.nn as nn\n",
    "import pandas as pd\n",
    "import numpy as np\n",
    "from nltk.tokenize import RegexpTokenizer\n",
    "from torch.utils.data import DataLoader, TensorDataset\n",
    "from tqdm.notebook import tqdm"
   ]
  },
  {
   "cell_type": "code",
   "execution_count": 2,
   "id": "8638acce-60ba-49b2-990a-8ca9282eb495",
   "metadata": {},
   "outputs": [],
   "source": [
    "# Our Modules\n",
    "from modules.data_preprocessing import DataPreprocessing\n",
    "from modules.transformer import Transformer"
   ]
  },
  {
   "cell_type": "markdown",
   "id": "e886ee6f-bc99-427c-a679-b23a09f0b4a7",
   "metadata": {},
   "source": [
    "### Parameters"
   ]
  },
  {
   "cell_type": "code",
   "execution_count": 3,
   "id": "647873f1-d6c4-49fd-b54e-4056df35363f",
   "metadata": {},
   "outputs": [],
   "source": [
    "data_path = fr\"D:\\courses\\Transformers\\Data\\eng_french.csv\"\n",
    "max_sentence_length = 30\n",
    "batch_size = 32\n",
    "embedding_dim = 512\n",
    "num_encoders = 1\n",
    "num_decoders = 1\n",
    "num_multiheads = 8\n",
    "encoder_hidden_layer_size = 2048\n",
    "decoder_hidden_layer_size = 2048"
   ]
  },
  {
   "cell_type": "markdown",
   "id": "4a396587-09f9-499a-8c0b-d89891839b48",
   "metadata": {},
   "source": [
    "### Preprocess Data"
   ]
  },
  {
   "cell_type": "code",
   "execution_count": 4,
   "id": "e73dff66-08a1-4139-93bb-4e0af1a29237",
   "metadata": {},
   "outputs": [
    {
     "name": "stdout",
     "output_type": "stream",
     "text": [
      "Loading Data from D:\\courses\\Transformers\\Data\\eng_french.csv\n",
      "Creating English vocabulary...\n",
      "Creating French vocabulary...\n",
      "Converting English Sentences to integer...\n",
      "Converting French Sentences to integer...\n",
      "Preparing Dataset for Input...\n",
      "Done.\n"
     ]
    }
   ],
   "source": [
    "preprocess = DataPreprocessing(\n",
    "    data_path = data_path,\n",
    "    max_sentence_length = max_sentence_length,\n",
    "    batch_size = batch_size\n",
    ")\n",
    "dataset, dataloader = preprocess.forward()"
   ]
  },
  {
   "cell_type": "markdown",
   "id": "d3053366-197a-4eaf-94a1-9d4a1e12832d",
   "metadata": {},
   "source": [
    "### Get Output"
   ]
  },
  {
   "cell_type": "code",
   "execution_count": 5,
   "id": "53144165-a62e-4a9a-8392-e83c9938dfcc",
   "metadata": {},
   "outputs": [],
   "source": [
    "transformer = Transformer(\n",
    "    batch_size,\n",
    "    max_sentence_length,\n",
    "    embedding_dim,\n",
    "    num_multiheads,\n",
    "    num_encoders,\n",
    "    num_decoders,\n",
    "    encoder_hidden_layer_size,\n",
    "    decoder_hidden_layer_size,\n",
    "    english_vocab_size = preprocess.english_vocab_size + 1,\n",
    "    french_vocab_size = preprocess.french_vocab_size + 1\n",
    ")"
   ]
  },
  {
   "cell_type": "code",
   "execution_count": 13,
   "id": "2affb588-72b8-4b31-a91e-ae6b1846e3a0",
   "metadata": {},
   "outputs": [
    {
     "name": "stdout",
     "output_type": "stream",
     "text": [
      "Total number of parameters in the model are: 36745850\n"
     ]
    }
   ],
   "source": [
    "total_params = sum(p.numel() for p in transformer.parameters() if p.requires_grad)\n",
    "print(f\"Total number of parameters in the model are: {total_params}\")"
   ]
  },
  {
   "cell_type": "code",
   "execution_count": 8,
   "id": "3c7386de-c2b9-4c47-92d4-1485612852c5",
   "metadata": {
    "scrolled": true
   },
   "outputs": [
    {
     "data": {
      "application/vnd.jupyter.widget-view+json": {
       "model_id": "b1098fec0e2446e5b89374533965aade",
       "version_major": 2,
       "version_minor": 0
      },
      "text/plain": [
       "  0%|          | 0/5489 [00:00<?, ?it/s]"
      ]
     },
     "metadata": {},
     "output_type": "display_data"
    },
    {
     "name": "stdout",
     "output_type": "stream",
     "text": [
      "['renforcer besoin féministe commenceront battons employeur encombrée invité taillâmes quart terrier report déjeunais existera existera programmée existera programmée existera programmée programmée programmée programmée programmée programmée programmée programmée programmée programmée programmée', 'également besoin féministe jurer mentionna versé rechargée connexion multiplication types noirs épargnes potable tempuras engourdira appelait hermétiques heurté heurté deniers deniers deniers partirent partirent partirent partirent deniers deniers deniers partirent', '1874 évidents serpent déranges échauffent tricheur proximité romancier romancier véridique véridique pari collectionner prodigue prodigue prodigue laisserons duc tournera laisserons serveuse serveuse serveuse serveuse serveuse laisserons laisserons laisserons laisserons laisserons', 'rêvais persistant survint rougissez proximité sculpté sculpté sculpté romancier véridique véridique véridique abandonné additionner lèverait dégoute dégoute dégoute lèverait disent perçants disent disent disent disent disent disent disent disent disent', 'enrichissent referais déclenche rattrapées photographique solitaire méticuleuse demanderas frotté repu potable heurté débattent déjeunais abandonnons beurré citron citron citron citron citron citron séparèrent adresse beurré beurré beurré séparèrent réelle professeure', 'oral détente enleva alcooliques tâtons inscrivez vases sortait nana frites déjeunais innocente ride gagnais gagnais rares muselière disposerais oral rigola asthme asthme asthme asthme asthme asthme asthme asthme rigola rigola', 'effraies parfaite grogne enleva belleau ordinateurs attela collectionné charmantes déjeunais collectionner promettent collectionner importait grandissait effraies dénie grandissait collectionner grandissait ceignent ceignent ceignent championne championne championne rumines rumines rumines fierté', 'grimper incrédulité gentil téléscope raideur ver échauffent sculpté romancier véridique véridique proximité proximité proximité proximité strictes strictes strictes proximité strictes strictes strictes laissent laissent strictes strictes strictes strictes strictes strictes', 'atrocement éliminé ordinateurs détente guette péri mystérieusement surpassées finalement rêveur excessif grouille méritais déjeunais pêchons dresse airlines pêchons robots bousiller bousiller bousiller autorisé cow anonymat étrange randonnée suffoquer suffoquer semblables', 'cultivons hypnotique second sportive potable pillé soudés indemnisé déjeunais protégé abandonné put voyagerais voyagerais voyagerais voyagerais cultivons cultivons voyagerais cultivons sucrerie voyagerais voyagerais perduré voyagerais cultivons voyagerais voyagerais voyagerais voyagerais', 'insipide attela enlacés aimants échauffent tricheur proximité romancier romancier véridique véridique proximité 17h proximité 17h appareils appareils appareils localiser insipide insipide insipide insipide insipide insipide éthiopie insipide insipide insipide insipide', 'défraîchies incrédulité photographique incliné trahissait sujets échauffent romancier romancier protégé romancier pari éveillé éveillé poussif conseillère paralysée atterrissage passâmes restitué restitué défraîchies défraîchies défraîchies défraîchies défraîchies défraîchies défraîchies défraîchies défraîchies', 'loyauté visualisé second contribue échelles abondance résidentielle finaux façons déjeunais robots promettent robots connaissions encourons frénétique assuétude orient robots loyauté loyauté loyauté loyauté loyauté loyauté danseur danseur loyauté grêle loyauté', 'grotesque connaissaient alcooliques bordée gérez exclus invaincus indiquez rougissez essayâmes essayâmes essayâmes feignis tournons compétitions compétitions ressentais essayâmes compétitions décoller décoller décoller décoller essayerai essayerai he décoller décoller compétitions essayerai', 'hautbois hauteur matériau attentionnée droguée tape furibonde spécialisée rattrapées heurté programmeur déjeunais robots pari complotent affaibli deux oublier abandonna oublier oublier dénommé dénommé dénommé dénommé dénommé referme dénommé avale oublier', 'dévoila hypnotique détente pillé créera inquiétant retoucher denier transforme déjeunais shérif pari proximité gagnais double plier plier double déplorable asseyez suppliés suppliés suppliés suppliés asseyez suppliés asseyez asseyez asseyez asseyez', 'rêvais améliorations éliminé rougissez proximité sculpté proximité sculpté romancier véridique véridique proximité véridique serrées tétanique strictes tétanique double déprimé strictes noyau paraître hermétique hermétique hermétique hermétique strictes strictes strictes strictes', 'défiait incrédulité annulés alcooliques japan aperçue bleus océans moulin tempuras déjeunais dériva dériva dérange examine examine déjà subtil chuchoté subtil subtil volcaniques volcaniques volcaniques subtil subtil défiait défiait défiait défiait', 'soulevant hypnotique second cernée reposez offense échauffent romancier romancier véridique véridique proximité collectionner enfer enfer cahier veillez cahier collectionner cahier cahier cahier cahier cahier cahier cahier cahier cahier cahier cahier', 'conçu referais saignement pipe réveillai attrapés menottez tempuras rougissez protégé ride put ride dépêchâmes invincibles invincibles vivions invincibles invincibles manigancer manigancer manigancer manigancer manigancer invincibles invincibles manigancer manigancer manigancer manigancer', 'barbelés artistique végétariens retire chantage 8h30 potable chantage sabots tracter menottez charades déjeunais élue souvenue démarches souvenue canapé souvenue souvenue souvenue souvenue souvenue canapé canapé canapé déclenche souvenue atteignîmes canapé', 'négociateur insinuent montrent ordinateurs dictateur corrigera rêveur excessif pleurait déjeunais shérif ascension romancier vos courants tolérée puzzle présidence courants dessous dessous dessous dessous dessous dessous échecs dessous on dessous dessous', 'appellerai éliminé coi tapis étudiés saisissons cogites rougissez existera véridique véridique véridique véridique baseball lèverait look fort connectez intersection appellerai appellerai appellerai appellerai appellerai envisagez appellerai envisagez appellerai appellerai appellerai', 'curieux attela gentil tentent trahissait frapper trouvées caches déjeunais développé collectionner développé dépêchâmes dépêchâmes pardonner pardonner atterrissage pardonner pardonner pardonner pardonner pardonner pardonner pardonner pardonner pardonner pardonner pardonner pardonner pardonner', 'naviguer insidieuse séparâmes bougon 19e démuni audacieux nausée cruauté retoucher enleva arrosez déjeunais feignis grogna feignis feignis feignis feignis saigneras feignis campeurs campeurs saigneras saigneras saigneras saigneras saigneras saigneras saigneras', 'menée couvertures incrédulité recommanderiez perdent dynamite démuni réduire échauffent ascension proximité proximité proximité proximité proximité turent collais allons proximité opéré opéré menée démarches démarches démarches opéré opéré démarches démarches démarches', 'édulcorant déconcerté gentil détente rêveur calmer réduite sortirons rougissez proximité abandonné proximité proximité proximité proximité campe luttaient proximité proximité luttaient incidence distributeurs distributeurs distributeurs luttaient luttaient luttaient luttaient luttaient distributeurs', 'revint besoin téléscope compositeurs battons photographique roule végétarienne nausée mêlé déjeunais sculpté enfuit enfuit naturels coopérerons naturels naturels naturels naturels naturels dog maturité maturité maturité maturité danemark danemark naturels naturels', 'champ hamlet renommés économe rabbin pillé brun visualisé contraints léthale types équilibré encombrant bombe heurté plie dévier tyranniques champ hermétiques hermétiques partirent partirent partirent suspension suspension suspension hermétiques partirent partirent', 'séjourna chantage discrétion détente marge avait esseulé taillâmes figée orbiter déjeunais proximité proximité proximité proximité rattrapé prochaine double serriez prochaine prochaine chiffonna chiffonna prochaine chiffonna chiffonna chiffonna chiffonna chiffonna chiffonna', 'racontait dénudés produis vases originelles travailleriez japan semestre figée karuizawa potable bijouterie gin ordinateurs sms programmeur force stationne heurté hermétiques hermétiques hermétiques soulier fournit fournit rose hermétiques hermétiques hermétiques hermétiques', 'brillait billard âge bordée souffla injuste échauffent sculpté romancier véridique véridique innocente véridique innocente réussirez abonnes exprimez extinction réussirez extinction appuyai appuyai appuyai appuyai appuyai refusai probable probable probable probable']\n"
     ]
    }
   ],
   "source": [
    "for batch in tqdm(dataloader):\n",
    "    english_batch, french_batch = batch\n",
    "\n",
    "    result = transformer.forward(english_batch, french_batch)\n",
    "\n",
    "    sentence_outputs = [' '.join([preprocess.french_int_word[int(num)] for num in row]) for row in result]\n",
    "    print(sentence_outputs)\n",
    "    break"
   ]
  },
  {
   "cell_type": "code",
   "execution_count": null,
   "id": "baa0671b-3008-48c3-915a-be5f721d39cf",
   "metadata": {},
   "outputs": [],
   "source": []
  },
  {
   "cell_type": "code",
   "execution_count": null,
   "id": "2d916748-d544-46ef-b590-d748192807bb",
   "metadata": {},
   "outputs": [],
   "source": []
  }
 ],
 "metadata": {
  "kernelspec": {
   "display_name": "Python 3 (ipykernel)",
   "language": "python",
   "name": "python3"
  },
  "language_info": {
   "codemirror_mode": {
    "name": "ipython",
    "version": 3
   },
   "file_extension": ".py",
   "mimetype": "text/x-python",
   "name": "python",
   "nbconvert_exporter": "python",
   "pygments_lexer": "ipython3",
   "version": "3.9.18"
  }
 },
 "nbformat": 4,
 "nbformat_minor": 5
}
