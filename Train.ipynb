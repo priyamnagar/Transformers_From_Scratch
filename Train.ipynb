{
 "cells": [
  {
   "cell_type": "markdown",
   "id": "69a6c22f-60ec-4d59-ac14-230fa092635f",
   "metadata": {},
   "source": [
    "### Import Modules"
   ]
  },
  {
   "cell_type": "code",
   "execution_count": 1,
   "id": "13a88f72-cb9e-4bb5-914a-ab741160e891",
   "metadata": {},
   "outputs": [],
   "source": [
    "# Python Libraries\n",
    "import torch\n",
    "import torch.nn as nn\n",
    "import pandas as pd\n",
    "import numpy as np\n",
    "from nltk.tokenize import RegexpTokenizer\n",
    "from torch.utils.data import DataLoader, TensorDataset\n",
    "from tqdm.notebook import tqdm"
   ]
  },
  {
   "cell_type": "code",
   "execution_count": 2,
   "id": "8638acce-60ba-49b2-990a-8ca9282eb495",
   "metadata": {},
   "outputs": [],
   "source": [
    "# Our Modules\n",
    "from modules.multihead_attention import MultiHeadAttention\n",
    "from modules.data_preprocessing import DataPreprocessing\n",
    "from modules.input import Input\n",
    "from modules.encoder import Encoder\n",
    "from modules.add_norm import AddNorm\n",
    "from modules.ffn import FFN"
   ]
  },
  {
   "cell_type": "markdown",
   "id": "e886ee6f-bc99-427c-a679-b23a09f0b4a7",
   "metadata": {},
   "source": [
    "### Parameters"
   ]
  },
  {
   "cell_type": "code",
   "execution_count": 3,
   "id": "647873f1-d6c4-49fd-b54e-4056df35363f",
   "metadata": {},
   "outputs": [],
   "source": [
    "data_path = fr\"D:\\courses\\Transformers\\Data\\eng_french.csv\"\n",
    "max_sentence_length = 30\n",
    "batch_size = 32\n",
    "embedding_dim = 512\n",
    "num_encoders = 1\n",
    "num_multiheads = 8\n",
    "encoder_hidden_layer_size = 2048"
   ]
  },
  {
   "cell_type": "markdown",
   "id": "4a396587-09f9-499a-8c0b-d89891839b48",
   "metadata": {},
   "source": [
    "### Preprocess Data"
   ]
  },
  {
   "cell_type": "code",
   "execution_count": 4,
   "id": "e73dff66-08a1-4139-93bb-4e0af1a29237",
   "metadata": {},
   "outputs": [
    {
     "name": "stdout",
     "output_type": "stream",
     "text": [
      "Loading Data from D:\\courses\\Transformers\\Data\\eng_french.csv\n",
      "Creating English vocabulary...\n",
      "14117\n",
      "Creating French vocabulary...\n",
      "24185\n",
      "Converting English Sentences to integer...\n",
      "Converting French Sentences to integer...\n",
      "Preparing Dataset for Input...\n",
      "Done.\n"
     ]
    }
   ],
   "source": [
    "preprocess = DataPreprocessing(\n",
    "    data_path = data_path,\n",
    "    max_sentence_length = max_sentence_length,\n",
    "    batch_size = batch_size\n",
    ")\n",
    "dataset, dataloader = preprocess.forward()"
   ]
  },
  {
   "cell_type": "markdown",
   "id": "d3053366-197a-4eaf-94a1-9d4a1e12832d",
   "metadata": {},
   "source": [
    "### Get Encoder Output"
   ]
  },
  {
   "cell_type": "code",
   "execution_count": 5,
   "id": "6cc43105-f2b0-44e0-bd4f-619af641f045",
   "metadata": {},
   "outputs": [],
   "source": [
    "inp = Input(\n",
    "    max_sentence_length,\n",
    "    vocab_size = preprocess.english_vocab_size + 1,\n",
    "    embedding_dim = embedding_dim\n",
    ")"
   ]
  },
  {
   "cell_type": "code",
   "execution_count": 6,
   "id": "434291a4-24ae-4aef-b0c8-0111abd1a541",
   "metadata": {},
   "outputs": [],
   "source": [
    "encoder = Encoder(\n",
    "        batch_size,\n",
    "        max_sentence_length,\n",
    "        embedding_dim,\n",
    "        num_multiheads,\n",
    "        num_encoders,\n",
    "        encoder_hidden_layer_size\n",
    ")"
   ]
  },
  {
   "cell_type": "code",
   "execution_count": null,
   "id": "3c7386de-c2b9-4c47-92d4-1485612852c5",
   "metadata": {},
   "outputs": [
    {
     "data": {
      "application/vnd.jupyter.widget-view+json": {
       "model_id": "b6a91a43153d46729e7a4c1becb33ee7",
       "version_major": 2,
       "version_minor": 0
      },
      "text/plain": [
       "  0%|          | 0/5489 [00:00<?, ?it/s]"
      ]
     },
     "metadata": {},
     "output_type": "display_data"
    }
   ],
   "source": [
    "for batch in tqdm(dataloader):\n",
    "    english_batch, french_batch = batch\n",
    "        \n",
    "    encoder_input = inp.forward(english_batch)\n",
    "\n",
    "    encoder_output, query, key, value = encoder.forward(encoder_input)"
   ]
  },
  {
   "cell_type": "code",
   "execution_count": null,
   "id": "baa0671b-3008-48c3-915a-be5f721d39cf",
   "metadata": {},
   "outputs": [],
   "source": []
  },
  {
   "cell_type": "code",
   "execution_count": null,
   "id": "2d916748-d544-46ef-b590-d748192807bb",
   "metadata": {},
   "outputs": [],
   "source": []
  }
 ],
 "metadata": {
  "kernelspec": {
   "display_name": "Python 3 (ipykernel)",
   "language": "python",
   "name": "python3"
  },
  "language_info": {
   "codemirror_mode": {
    "name": "ipython",
    "version": 3
   },
   "file_extension": ".py",
   "mimetype": "text/x-python",
   "name": "python",
   "nbconvert_exporter": "python",
   "pygments_lexer": "ipython3",
   "version": "3.9.18"
  }
 },
 "nbformat": 4,
 "nbformat_minor": 5
}
