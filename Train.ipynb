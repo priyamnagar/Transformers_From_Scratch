{
 "cells": [
  {
   "cell_type": "markdown",
   "id": "69a6c22f-60ec-4d59-ac14-230fa092635f",
   "metadata": {},
   "source": [
    "### Import Modules"
   ]
  },
  {
   "cell_type": "code",
   "execution_count": 1,
   "id": "13a88f72-cb9e-4bb5-914a-ab741160e891",
   "metadata": {},
   "outputs": [],
   "source": [
    "# Python Libraries\n",
    "import torch\n",
    "import torch.nn as nn\n",
    "import pandas as pd\n",
    "import numpy as np\n",
    "from nltk.tokenize import RegexpTokenizer\n",
    "from torch.utils.data import DataLoader, TensorDataset"
   ]
  },
  {
   "cell_type": "code",
   "execution_count": 2,
   "id": "8638acce-60ba-49b2-990a-8ca9282eb495",
   "metadata": {},
   "outputs": [],
   "source": [
    "# Our Modules\n",
    "from modules.multihead_attention import MultiHeadAttention\n",
    "from modules.data_preprocessing import DataPreprocessing\n",
    "from modules.input import Input"
   ]
  },
  {
   "cell_type": "markdown",
   "id": "e886ee6f-bc99-427c-a679-b23a09f0b4a7",
   "metadata": {},
   "source": [
    "### Parameters"
   ]
  },
  {
   "cell_type": "code",
   "execution_count": 3,
   "id": "647873f1-d6c4-49fd-b54e-4056df35363f",
   "metadata": {},
   "outputs": [],
   "source": [
    "data_path = fr\"D:\\courses\\Transformers\\Data\\eng_french.csv\"\n",
    "max_sentence_length = 20\n",
    "batch_size = 16\n",
    "embedding_dim = 512"
   ]
  },
  {
   "cell_type": "markdown",
   "id": "4a396587-09f9-499a-8c0b-d89891839b48",
   "metadata": {},
   "source": [
    "### Execute Code"
   ]
  },
  {
   "cell_type": "code",
   "execution_count": 5,
   "id": "e73dff66-08a1-4139-93bb-4e0af1a29237",
   "metadata": {},
   "outputs": [
    {
     "name": "stdout",
     "output_type": "stream",
     "text": [
      "Loading Data from D:\\courses\\Transformers\\Data\\eng_french.csv\n",
      "Creating English vocabulary...\n",
      "Creating French vocabulary...\n",
      "Converting English Sentences to integer...\n",
      "Converting French Sentences to integer...\n",
      "Preparing Dataset for Input...\n",
      "Done.\n"
     ]
    }
   ],
   "source": [
    "preprocess = DataPreprocessing(\n",
    "    data_path = data_path,\n",
    "    max_sentence_length = max_sentence_length,\n",
    "    batch_size = batch_size\n",
    ")\n",
    "dataset, dataloader = preprocess.forward()"
   ]
  },
  {
   "cell_type": "code",
   "execution_count": 6,
   "id": "6cc43105-f2b0-44e0-bd4f-619af641f045",
   "metadata": {},
   "outputs": [],
   "source": [
    "inp = Input(\n",
    "    max_sentence_length,\n",
    "    vocab_size = preprocess.english_vocab_size,\n",
    "    embedding_dim = embedding_dim\n",
    ")"
   ]
  },
  {
   "cell_type": "code",
   "execution_count": 11,
   "id": "3c7386de-c2b9-4c47-92d4-1485612852c5",
   "metadata": {},
   "outputs": [
    {
     "name": "stdout",
     "output_type": "stream",
     "text": [
      "torch.Size([16, 20, 512])\n"
     ]
    }
   ],
   "source": [
    "for batch in dataloader:\n",
    "    english_batch, french_batch = batch\n",
    "    \n",
    "    encoder_input = inp.forward(english_batch)\n",
    "\n",
    "    print(encoder_input.shape)\n",
    "    \n",
    "    break"
   ]
  },
  {
   "cell_type": "code",
   "execution_count": null,
   "id": "fa74fc9e-fc64-4686-8e94-455127362be6",
   "metadata": {},
   "outputs": [],
   "source": []
  },
  {
   "cell_type": "code",
   "execution_count": null,
   "id": "c01ba680-fe82-4206-acf4-e695450f3b1d",
   "metadata": {},
   "outputs": [],
   "source": []
  },
  {
   "cell_type": "code",
   "execution_count": 8,
   "id": "da6c538c-b4e1-4561-b40b-c1c515a4c1f7",
   "metadata": {},
   "outputs": [],
   "source": [
    "# class Encoder(nn.Module):\n",
    "#     def __init__(self,\n",
    "#                  x,\n",
    "#                  batch_size, \n",
    "#                  seq_length,\n",
    "#                  emb_size,\n",
    "#                  ):\n",
    "#         self.batch_size = batch_size\n",
    "#         self.seq_length = seq_length\n",
    "#         self.emb_size = emb_size\n",
    "#         self.input_dim = (self.batch_size, self.seq_length, self.emb_size)\n",
    "#         self.mask = torch.tril(torch.ones(self.seq_length,self.seq_length))\n",
    "#         self.mask[self.mask == 0] = -torch.inf\n",
    "#         self.mask[self.mask == 1] = 0\n",
    "#         # self.mask = None   \n",
    "#         self.x = x\n",
    "        \n",
    "#     def forward(self):\n",
    "#         contextual_embeddings = self.multihead_attention(8)\n",
    "#         return contextual_embeddings\n",
    "\n",
    "#     def multihead_attention(self, num_heads):\n",
    "#         num_heads = 8\n",
    "#         mha = MultiHeadAttention(self.emb_size, num_heads)\n",
    "#         contextual_embeddings = mha.multihead_attention(self.x, num_heads, self.mask)\n",
    "#         return contextual_embeddings        "
   ]
  },
  {
   "cell_type": "code",
   "execution_count": 9,
   "id": "1e182478-66bb-4b86-8b31-dfae804e0282",
   "metadata": {},
   "outputs": [],
   "source": [
    "# batch_size = 16\n",
    "# seq_length = 4056\n",
    "# emb_size = 512\n",
    "# num_encoders = 2\n",
    "# input = torch.rand(batch_size, seq_length, emb_size)"
   ]
  },
  {
   "cell_type": "code",
   "execution_count": 10,
   "id": "2d49af7f-6345-4873-b4e8-46206a89c3e9",
   "metadata": {},
   "outputs": [],
   "source": [
    "# for i in range(num_encoders):\n",
    "#     encoder = Encoder(input, batch_size, seq_length,emb_size)\n",
    "#     input = encoder.forward()\n",
    "# input.shape"
   ]
  },
  {
   "cell_type": "code",
   "execution_count": null,
   "id": "baa0671b-3008-48c3-915a-be5f721d39cf",
   "metadata": {},
   "outputs": [],
   "source": []
  }
 ],
 "metadata": {
  "kernelspec": {
   "display_name": "Python 3 (ipykernel)",
   "language": "python",
   "name": "python3"
  },
  "language_info": {
   "codemirror_mode": {
    "name": "ipython",
    "version": 3
   },
   "file_extension": ".py",
   "mimetype": "text/x-python",
   "name": "python",
   "nbconvert_exporter": "python",
   "pygments_lexer": "ipython3",
   "version": "3.9.18"
  }
 },
 "nbformat": 4,
 "nbformat_minor": 5
}
